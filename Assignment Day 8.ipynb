{
 "cells": [
  {
   "cell_type": "markdown",
   "metadata": {},
   "source": [
    "# Question 1:\n",
    "Recreate “NB 21 map, filter, lambda.ipynb” to try different variations or perform different calculations from\n",
    "the ones that are in the NB\n"
   ]
  },
  {
   "cell_type": "markdown",
   "metadata": {},
   "source": [
    "## __ANSWER__"
   ]
  },
  {
   "cell_type": "code",
   "execution_count": 12,
   "metadata": {},
   "outputs": [
    {
     "name": "stdout",
     "output_type": "stream",
     "text": [
      "[9, 11, 13]\n"
     ]
    }
   ],
   "source": [
    "# map using \n",
    "def adding(n1,n2):\n",
    "    result = n1+n2\n",
    "    \n",
    "    return result\n",
    "\n",
    "   \n",
    "    \n",
    "num1 = (4, 5, 6)\n",
    "num2 = (5, 6, 7)\n",
    "x = list(map(adding,num1,num2))\n",
    "print(x)"
   ]
  },
  {
   "cell_type": "code",
   "execution_count": 49,
   "metadata": {},
   "outputs": [
    {
     "name": "stdout",
     "output_type": "stream",
     "text": [
      "[39.2, 36.5, 37.300000000000004, 37.8]\n"
     ]
    }
   ],
   "source": [
    " Celsius = [39.2, 36.5, 37.3, 37.8]\n",
    "Fahrenheit = map(lambda x: (float(9)/5)*x + 32, Celsius)\n",
    "\n",
    "C = map(lambda x: (float(5)/9)*(x-32), Fahrenheit)\n",
    "print (list(C))\n"
   ]
  },
  {
   "cell_type": "code",
   "execution_count": 59,
   "metadata": {},
   "outputs": [
    {
     "name": "stdout",
     "output_type": "stream",
     "text": [
      "[0, 2, 8, 34]\n"
     ]
    }
   ],
   "source": [
    "fib = [0,1,1,2,3,5,8,13,21,34,55]\n",
    "result = filter(lambda x: x % 2, fib)\n",
    "\n",
    "result = filter(lambda x: x % 2 == 0, fib)\n",
    "print (list(result))\n",
    "\n"
   ]
  },
  {
   "cell_type": "code",
   "execution_count": 3,
   "metadata": {},
   "outputs": [
    {
     "name": "stdout",
     "output_type": "stream",
     "text": [
      "[2, 4, 6, 8]\n"
     ]
    }
   ],
   "source": [
    "# filter(function, iterables)\n",
    "def sqr(a):\n",
    "    if a>=3:\n",
    "        return a\n",
    "# your code goes here1.2\n",
    "x = filter( sqr, [1,2,3,4,5], )\n",
    "print(x)\n",
    "print(type(x))\n",
    "print(list(x))"
   ]
  },
  {
   "cell_type": "markdown",
   "metadata": {},
   "source": [
    "## Question 2:\n",
    "Recreate your own Python NB for “Classes and Objects” from the pdf provided namely\n",
    "“Classes&Objects.pdf”"
   ]
  },
  {
   "cell_type": "markdown",
   "metadata": {},
   "source": [
    "## Answer"
   ]
  },
  {
   "cell_type": "markdown",
   "metadata": {},
   "source": [
    "1. Python is an object oriented programming language. Unlike procedure oriented programming, where the main emphasis is on     functions, object oriented programming stresses on objects.\n",
    "2. An object is simply a collection of data (variables) and methods (functions) that act on those data. Similarly, a class is a blueprint for that object.\n",
    "\n",
    "__Overview__\n",
    "\n",
    "1. class : A class creates a new local namespace where all its attributes are defined. Attributes may be data or functions.As soon as we define a class, a new class object is created with the same name. This class object allows us to access the different attributes as well as to instantiate new objects of that class.\n",
    "\n",
    "2. Class variable : classess variables created inside classes. They are not frequently used as instant variables also we can assess in different classes.\n",
    "\n",
    "### CREATING CLASSES \n",
    "\n",
    "A class creates a new local namespace where all its attributes are defined. Attributes may be data or functions.\n",
    "here are also special attributes in it that begins with double underscores __. For example, __doc__ gives us the docstring of that class.\n",
    "\n",
    "class Person:\n",
    "    \"This is a person class\"\n",
    "    age = 10\n",
    "\n",
    "    def greet(self):\n",
    "        print('Hello')\n",
    "print(Person.age)\n",
    "print(Person.greet)\n",
    "\n",
    "### Creating an Object in Python\n",
    "\n",
    "\n",
    "It can also be used to create new object instances (instantiation) of that class. The procedure to create an object is similar to a function call.\n",
    "\n",
    " harry = Person()\n",
    "This will create a new object instance named harry. We can access the attributes of objects using the object name prefix.\n",
    "\n",
    "Attributes may be data or method. Methods of an object are corresponding functions of that class.\n",
    "\n",
    "This means to say, since Person.greet is a function object (attribute of class), Person.greet will be a method object.\n",
    "\n",
    "__FOR EXAMPLE__\n",
    "class Person:\n",
    "    \"This is a person class\"\n",
    "    age = 10\n",
    "\n",
    "    def greet(self):\n",
    "        print('Hello')\n",
    "\n",
    "\n",
    "#### create a new object of Person class\n",
    "harry = Person()\n",
    "print(Person.greet)\n",
    "print(harry.greet)\n",
    "harry.greet()\n",
    "\n",
    "Output\n",
    "\n",
    "<function Person.greet at 0x7fd288e4e160>\n",
    "<bound method Person.greet of <__main__.Person object at 0x7fd288e9fa30>>\n",
    "Hello\n",
    "\n",
    "\n",
    "\n",
    "#### Constructors in Python\n",
    "Class functions that begin with double underscore __ are called special functions as they have special meaning.\n",
    "\n",
    "Of one particular interest is the __init__() function. This special function gets called whenever a new object of that class is instantiated.\n",
    "\n",
    "This type of function is also called constructors in Object Oriented Programming (OOP). We normally use it to initialize all the variables.\n",
    "\n",
    "__for example__\n",
    "\n",
    "class ComplexNumber:\n",
    "    def __init__(self, r=0, i=0):\n",
    "        self.real = r\n",
    "        self.imag = i\n",
    "\n",
    "    def get_data(self):\n",
    "        print(f'{self.real}+{self.imag}j')\n",
    "\n",
    "num1 = ComplexNumber(2, 3)\n",
    "\n",
    "num1.get_data()\n",
    "\n",
    "num2 = ComplexNumber(5)\n",
    "num2.attr = 10\n",
    "\n",
    "\n",
    "print((num2.real, num2.imag, num2.attr))\n",
    "\n",
    "print(num1.attr)\n",
    "\n",
    "\n",
    "\n",
    "#### Deleting Attributes and Objects\n",
    "Any attribute of an object can be deleted anytime, using the del statement. Try the following on the Python shell to see the output.\n",
    "\n",
    " num1 = ComplexNumber(2,3)\n",
    " del num1.imag\n",
    " num1.get_data()\n",
    "Traceback (most recent call last):\n",
    "...\n",
    "AttributeError: 'ComplexNumber' object has no attribute 'imag'\n",
    "\n",
    " del ComplexNumber.get_data\n",
    " num1.get_data()\n",
    "Traceback (most recent call last):\n",
    "...\n",
    "AttributeError: 'ComplexNumber' object has no attribute 'get_data'\n",
    "We can even delete the object itself, using the del statement.\n",
    "\n",
    "\n",
    "On the command del c1, this binding is removed and the name c1 is deleted from the corresponding namespace. The object however continues to exist in memory and if no other name is bound to it, it is later automatically destroyed.\n",
    "\n",
    "This automatic destruction of unreferenced objects in Python is also called garbage collection."
   ]
  },
  {
   "cell_type": "code",
   "execution_count": null,
   "metadata": {},
   "outputs": [],
   "source": []
  }
 ],
 "metadata": {
  "kernelspec": {
   "display_name": "Python 3",
   "language": "python",
   "name": "python3"
  },
  "language_info": {
   "codemirror_mode": {
    "name": "ipython",
    "version": 3
   },
   "file_extension": ".py",
   "mimetype": "text/x-python",
   "name": "python",
   "nbconvert_exporter": "python",
   "pygments_lexer": "ipython3",
   "version": "3.8.3"
  },
  "toc": {
   "base_numbering": 1,
   "nav_menu": {},
   "number_sections": true,
   "sideBar": true,
   "skip_h1_title": false,
   "title_cell": "Table of Contents",
   "title_sidebar": "Contents",
   "toc_cell": false,
   "toc_position": {},
   "toc_section_display": true,
   "toc_window_display": false
  }
 },
 "nbformat": 4,
 "nbformat_minor": 2
}
