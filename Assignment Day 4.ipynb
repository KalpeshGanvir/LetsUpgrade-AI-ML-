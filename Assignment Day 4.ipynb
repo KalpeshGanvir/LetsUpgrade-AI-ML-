{
 "cells": [
  {
   "cell_type": "markdown",
   "metadata": {},
   "source": [
    "# Question 1 :\n",
    "__Research on whether addition, subtraction, multiplication, division, floor division, and modulo operations\n",
    "be performed on complex numbers. Based on your study, implement a Python program to demonstrate\n",
    "these operations.__"
   ]
  },
  {
   "cell_type": "markdown",
   "metadata": {},
   "source": [
    "# Answer"
   ]
  },
  {
   "cell_type": "markdown",
   "metadata": {},
   "source": [
    "Complex numbers basically contains two part which is real and imaginary part\n",
    "\n",
    "for eg : 5+j25 where 5 is real part and j25 is imaginary part where j denote imaginary part.\n",
    "\n",
    "Python do have build_in Data type and function to deal with complex numbers\n",
    "\n",
    "complex() is the function used in python.\n",
    "\n",
    "This function takes two arguments\n",
    "\n",
    "for eg : complex(-6, -2.5)\n",
    "\n",
    "(-6-2.5j)\n",
    "\n",
    "If only one argument is passed then by default complex() consider it as real making imaginary part as zero.\n",
    "\n",
    "for eg complex(-5, -2.5)\n",
    "\n",
    "(-5-0j)\n",
    "\n",
    "By using complex number we can do arithmetic operations by using python.\n",
    "\n",
    "During research it is found that we cant do modulo and floor divison operation in python3\n",
    "\n",
    "\n"
   ]
  },
  {
   "cell_type": "code",
   "execution_count": 3,
   "metadata": {},
   "outputs": [
    {
     "name": "stdout",
     "output_type": "stream",
     "text": [
      "ENTER TWO COMPLEX NUMBERS = 10+5j 2+5j\n",
      "First Number =(10+5j) and second number = (2+5j) \n",
      "Addition = (12+10j)\n",
      "Substraction = (8+0j)\n",
      "Multiplication = (-5+60j)\n",
      "Division = (1.5517241379310345-1.3793103448275863j)\n",
      "             \n"
     ]
    }
   ],
   "source": [
    "comp1,comp2 = map(complex,input(\"ENTER TWO COMPLEX NUMBERS = \").split())\n",
    "numbers = \"First Number ={} and second number = {} \"\n",
    "print(numbers.format(comp1,comp2))\n",
    "add = comp1 + comp2\n",
    "sub = comp1 - comp2\n",
    "mul = comp1 * comp2\n",
    "div = comp1 / comp2\n",
    "\n",
    "result = '''Addition = {}\n",
    "Substraction = {}\n",
    "Multiplication = {}\n",
    "Division = {}\n",
    "             '''\n",
    "print(result.format(add,sub,mul,div))\n"
   ]
  },
  {
   "cell_type": "markdown",
   "metadata": {},
   "source": [
    "# Question 2 :\n",
    "__Research on range() functions and its parameters. Create a markdown cell and write in your own words\n",
    "(no copy-paste from google please) what you understand about it. Implement a small program of your\n",
    "choice on the same.__"
   ]
  },
  {
   "cell_type": "markdown",
   "metadata": {},
   "source": [
    "# Answer"
   ]
  },
  {
   "cell_type": "markdown",
   "metadata": {},
   "source": [
    "The range() function in python is used to return/print the sequence of number as define by programmer\n",
    "\n",
    "__Syntax__\n",
    "\n",
    "range() has two forms :\n",
    "\n",
    "1. *__range(stop)__*\n",
    "2. *__range(start,stop,step)__*\n",
    "\n",
    "__Parameters__\n",
    "\n",
    "|Syntax|Description |\n",
    "| ----------- | ----------- |\n",
    "| start(optional) : |    number sequence starts from here. By Default it is 0 |\n",
    "| stop(required): |    number sequence stops here |\n",
    "|  step(optional  : |    number sequence's incrementation is done by this. By Default it is 1 |\n",
    "\n",
    "__range(stop)__\n",
    "\n",
    "Only integer value is passed into this.\n",
    "\n",
    "if 0 is passed no sequence is printed\n",
    "\n",
    "if any non zero is passed then result will be n-1, where n is non zero integer number\n",
    "\n",
    "__range(start)__\n",
    "\n",
    "if nothing is passed into this then by default it is zero\n",
    "\n",
    "if any zero, non zero no. is passed then it will be the starting point of the sequence.\n",
    "\n",
    "__range(step)__\n",
    "\n",
    "if nothing is passed by default it takes 1. Sequence will start from (start) and stop till (stop-1)\n",
    "\n",
    "if zero is passed then complier will raise an valueError exception\n",
    "\n",
    "if step is non-zero that is positive or negative then it will check if the value limitation or not. If it does not meet value limitation then empty sequence is shown.\n",
    "\n",
    "following below is the code for the above\n"
   ]
  },
  {
   "cell_type": "code",
   "execution_count": 20,
   "metadata": {},
   "outputs": [
    {
     "name": "stdout",
     "output_type": "stream",
     "text": [
      "if range is zero =  []\n",
      "if range has non zero positive integer number =  [0, 1, 2, 3, 4, 5, 6, 7, 8, 9]\n",
      "sequence starts with 1 =  [1, 2, 3, 4, 5, 6, 7, 8, 9]\n",
      "negative sequence =  [2, 0, -2, -4, -6, -8, -10, -12]\n",
      "practically this is not possible =  []\n"
     ]
    }
   ],
   "source": [
    "# empty range\n",
    "print(\"if range is zero = \",list(range(0)))\n",
    "\n",
    "# using range(stop)\n",
    "print(\"if range has non zero positive integer number = \",list(range(10)))\n",
    "\n",
    "\n",
    "# using range(start, stop)\n",
    "print(\"sequence starts with 1 = \",list(range(1, 10)))\n",
    "start = 2\n",
    "stop = -14\n",
    "step = -2\n",
    "\n",
    "print(\"negative sequence = \",list(range(start, stop, step)))\n",
    "\n",
    "# value constraint not met\n",
    "print(\"practically this is not possible = \",list(range(start, 14, step)))\n"
   ]
  },
  {
   "cell_type": "markdown",
   "metadata": {},
   "source": [
    "# Question 3:\n",
    "__Consider two numbers. Perform their subtraction and if the result of subtraction is greater than 25, print\n",
    "their multiplication result else print their division result__"
   ]
  },
  {
   "cell_type": "code",
   "execution_count": 1,
   "metadata": {},
   "outputs": [
    {
     "name": "stdout",
     "output_type": "stream",
     "text": [
      "enter the desire range: 6\n",
      "first number 45\n",
      "second number 25\n",
      "Result 20\n",
      "division =  1.8\n",
      "choose (n/y) n\n"
     ]
    }
   ],
   "source": [
    "n = int(input(\"enter the desire range: \"))\n",
    "x = range(n)\n",
    "for b in x:\n",
    "    a = int(input(\"first number \"))\n",
    "    s = int(input(\"second number \"))\n",
    "    result = a-s\n",
    "    print(\"Result\",result)\n",
    "    if result>25 :\n",
    "        multiply = a*s\n",
    "        print(\"multiplication = \",multiply)\n",
    "    else :\n",
    "        divis = a/s\n",
    "        print(\"division = \",divis)\n",
    "    option = (input(\"choose (n/y) \"))\n",
    "    if option == \"n\" :\n",
    "            break\n",
    "else : \n",
    "    b=+1\n",
    "    "
   ]
  },
  {
   "cell_type": "markdown",
   "metadata": {},
   "source": [
    "# Question 4:\n",
    "__Consider a list of 10 elements of integer values. If the number in the list is divisible by 2, print the result as\n",
    "\"square of that number minus 2\"__"
   ]
  },
  {
   "cell_type": "code",
   "execution_count": 5,
   "metadata": {},
   "outputs": [
    {
     "name": "stdout",
     "output_type": "stream",
     "text": [
      "How many numbers are in the list : 10\n",
      "Enter list item 0 : 1\n",
      "Enter list item 1 : 2\n",
      "Enter list item 2 : 3\n",
      "Enter list item 3 : 4\n",
      "Enter list item 4 : 5\n",
      "Enter list item 5 : 6\n",
      "Enter list item 6 : 7\n",
      "Enter list item 7 : 8\n",
      "Enter list item 8 : 9\n",
      "Enter list item 9 : 1\n",
      "Recieved List =  [1, 2, 3, 4, 5, 6, 7, 8, 9, 1]\n",
      "Final list  :  [2, 14, 34, 62]\n"
     ]
    }
   ],
   "source": [
    "\n",
    "list_size = int(input(\"How many numbers are in the list : \"))\n",
    "\n",
    "number_list = []\n",
    "final_list = []\n",
    "\n",
    "for i in range(0,list_size):\n",
    "    number_list.append(int(input(\"Enter list item {} : \".format(i))))\n",
    "print(\"Recieved List = \",number_list)\n",
    "\n",
    "\n",
    "for i in range(0,list_size):\n",
    "    if number_list[i] % 2 == 0 : \n",
    "\n",
    "        SQRT = (number_list[i]**2)\n",
    "        final = SQRT-2\n",
    "        \n",
    "        #print(\"final result = \",final)\n",
    "        final_list.append(final)\n",
    "\n",
    "print(\"Final list  : \",final_list)"
   ]
  },
  {
   "cell_type": "markdown",
   "metadata": {},
   "source": [
    "# Question 5:\n",
    "__Consider a list of 10 elements. Print all the elements in the list which are greater than 7 when that number\n",
    "is divided 2.__"
   ]
  },
  {
   "cell_type": "code",
   "execution_count": 17,
   "metadata": {},
   "outputs": [
    {
     "name": "stdout",
     "output_type": "stream",
     "text": [
      "How many numbers are in the list : 10\n",
      "Enter list item 0 : 11\n",
      "Enter list item 1 : 12\n",
      "Enter list item 2 : 13\n",
      "Enter list item 3 : 14\n",
      "Enter list item 4 : 15\n",
      "Enter list item 5 : 16\n",
      "Enter list item 6 : 17\n",
      "Enter list item 7 : 18\n",
      "Enter list item 8 : 19\n",
      "Enter list item 9 : 20\n",
      "Recieved List =  [11, 12, 13, 14, 15, 16, 17, 18, 19, 20]\n",
      "Required list  :  [12, 14, 16, 18, 20]\n",
      "Discarded list :  [11, 13, 15, 17, 19]\n"
     ]
    }
   ],
   "source": [
    "New_list_size = int(input(\"How many numbers are in the list : \"))\n",
    "\n",
    "number_list1 = []\n",
    "final_list1 = []\n",
    "final_list2 = []\n",
    "\n",
    "for i in range(0,New_list_size):\n",
    "    number_list1.append(int(input(\"Enter list item {} : \".format(i))))\n",
    "print(\"Recieved List = \",number_list1)\n",
    "\n",
    "\n",
    "for i in range(0,New_list_size):\n",
    "    if number_list1[i] % 2 == 0 and number_list1[i]>7 :\n",
    "        #print(number_list1[i])\n",
    "        final1 = number_list1[i]   \n",
    "        \n",
    "        final_list1.append(final1)\n",
    "            \n",
    "    else : \n",
    "        final2 = number_list1[i]\n",
    "        final_list2.append(final2)\n",
    "\n",
    "print(\"Required list  : \",final_list1)\n",
    "print(\"Discarded list : \",final_list2)"
   ]
  },
  {
   "cell_type": "code",
   "execution_count": null,
   "metadata": {},
   "outputs": [],
   "source": []
  }
 ],
 "metadata": {
  "kernelspec": {
   "display_name": "Python 3",
   "language": "python",
   "name": "python3"
  },
  "language_info": {
   "codemirror_mode": {
    "name": "ipython",
    "version": 3
   },
   "file_extension": ".py",
   "mimetype": "text/x-python",
   "name": "python",
   "nbconvert_exporter": "python",
   "pygments_lexer": "ipython3",
   "version": "3.8.3"
  }
 },
 "nbformat": 4,
 "nbformat_minor": 4
}
