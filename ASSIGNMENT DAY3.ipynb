{
 "cells": [
  {
   "cell_type": "markdown",
   "metadata": {},
   "source": [
    "# Question 1 : \n",
    "  __Write a program to substract two complex numbers in python.__"
   ]
  },
  {
   "cell_type": "code",
   "execution_count": 4,
   "metadata": {},
   "outputs": [
    {
     "name": "stdout",
     "output_type": "stream",
     "text": [
      "Enter first complex number = 45+26j\n",
      "Enter second complex number =  50-73j\n",
      "Final answer =  (-5+99j)\n"
     ]
    }
   ],
   "source": [
    "First_number = complex(input('''Enter first complex number = '''))\n",
    "\n",
    "Second_number = complex(input('''Enter second complex number =  '''))\n",
    "\n",
    "Substraction = First_number - Second_number\n",
    "\n",
    "print(\"Final answer = \", Substraction)"
   ]
  },
  {
   "cell_type": "markdown",
   "metadata": {},
   "source": [
    "# Question 2 :\n",
    "__Write a program to find the fourth root of a number.__"
   ]
  },
  {
   "cell_type": "code",
   "execution_count": 14,
   "metadata": {},
   "outputs": [
    {
     "name": "stdout",
     "output_type": "stream",
     "text": [
      "Enter a number = 256\n",
      "Number Entered is valid \n",
      "                    Root is  4.0\n",
      "\n",
      "\n",
      "Check again? (y/n) = n\n",
      "Thank you\n"
     ]
    }
   ],
   "source": [
    "while True : \n",
    "     Input = int(input('''Enter a number = '''))\n",
    "\n",
    "     expression = Input**(1/4)\n",
    "\n",
    "     prefect = expression % 2\n",
    "\n",
    "\n",
    "     if prefect != 0 :\n",
    "             print(\"Not a valid fourth root number\")\n",
    "    \n",
    "     else :\n",
    "             print('''Number Entered is valid \n",
    "                    Root is ''',expression )\n",
    "     print(\"\\n\")\n",
    "                \n",
    "     option = input(\"Check again? (y/n) = \")\n",
    "                \n",
    "     if option== \"n\" :\n",
    "        print(\"Thank you\")\n",
    "        break\n",
    "        \n",
    "                 \n",
    "\n"
   ]
  },
  {
   "cell_type": "markdown",
   "metadata": {},
   "source": [
    "# Question 3:\n",
    "__Write a program to swap two numbers in Python with the help of a temporary variable.__"
   ]
  },
  {
   "cell_type": "code",
   "execution_count": 10,
   "metadata": {},
   "outputs": [
    {
     "name": "stdout",
     "output_type": "stream",
     "text": [
      "Enter value of a = 65\n",
      "Enter value of b = 45\n",
      "\n",
      "\n",
      "\n",
      "\n",
      "current value of a is 65 \n",
      "\n",
      "current value of b is 45\n",
      "\n",
      "\n",
      "\n",
      "\n",
      "New value of a is 45\n",
      "\n",
      "New value of b is 65\n"
     ]
    }
   ],
   "source": [
    "a = int(input(\"Enter value of a = \"))\n",
    "b = int(input(\"Enter value of b = \"))\n",
    "print(\"\\n\")\n",
    "current_values = ('''current value of a is {} \n",
    "\n",
    "current value of b is {}''')\n",
    "print(\"\\n\")\n",
    "print(current_values.format(a,b))\n",
    "print(\"\\n\")\n",
    "temp = a\n",
    "a = b\n",
    "b = temp\n",
    "Updated_value  = ('''New value of a is {}\n",
    "\n",
    "New value of b is {}''')\n",
    "print(\"\\n\")\n",
    "print(Updated_value.format(a,b))"
   ]
  },
  {
   "cell_type": "markdown",
   "metadata": {},
   "source": [
    "# Question 4:\n",
    "__Write a program to swap two numbers in Python without using a temporary variable.__"
   ]
  },
  {
   "cell_type": "code",
   "execution_count": 1,
   "metadata": {},
   "outputs": [
    {
     "name": "stdout",
     "output_type": "stream",
     "text": [
      "Enter value of a = 56\n",
      "Enter value of b = 65\n",
      "\n",
      "\n",
      "\n",
      "\n",
      "current value of a is 56 \n",
      "\n",
      "current value of b is 65\n",
      "\n",
      "\n",
      "\n",
      "\n",
      "New value of a is 65\n",
      "\n",
      "New value of b is 56\n"
     ]
    }
   ],
   "source": [
    "a = int(input(\"Enter value of a = \"))\n",
    "b = int(input(\"Enter value of b = \"))\n",
    "print(\"\\n\")\n",
    "current_values = ('''current value of a is {} \n",
    "\n",
    "current value of b is {}''')\n",
    "print(\"\\n\")\n",
    "print(current_values.format(a,b))\n",
    "print(\"\\n\")\n",
    "\n",
    "a,b = b,a\n",
    "\n",
    "Updated_value  = ('''New value of a is {}\n",
    "\n",
    "New value of b is {}''')\n",
    "print(\"\\n\")\n",
    "print(Updated_value.format(a,b))"
   ]
  },
  {
   "cell_type": "markdown",
   "metadata": {},
   "source": [
    "# Question 5:\n",
    "__Write a program to convert Fahrenheit to kelvin and celsius both.__"
   ]
  },
  {
   "cell_type": "code",
   "execution_count": 7,
   "metadata": {},
   "outputs": [
    {
     "name": "stdout",
     "output_type": "stream",
     "text": [
      "Please enter Fahrenheit degree 100\n",
      "\n",
      "\n",
      "Kelvin is 310.92777777777775\n",
      "celsius is 37.77777777777778 \n"
     ]
    }
   ],
   "source": [
    "fahrenheit = float(input(\"Please enter Fahrenheit degree \"))\n",
    "print(\"\\n\")\n",
    "celsius = (fahrenheit-32) / 1.8\n",
    "\n",
    "kelvin = (celsius + 273.15)\n",
    "\n",
    "Converstion = ('''Kelvin is {}\n",
    "celsius is {} ''')\n",
    "print(Converstion.format(kelvin,celsius))"
   ]
  },
  {
   "cell_type": "markdown",
   "metadata": {},
   "source": [
    "# Question 6:\n",
    "__Write a program to demonstrate all the available data types in Python.__"
   ]
  },
  {
   "cell_type": "code",
   "execution_count": 12,
   "metadata": {},
   "outputs": [
    {
     "name": "stdout",
     "output_type": "stream",
     "text": [
      "INT= 5 <class 'int'>\n",
      "\n",
      "\n",
      "FLT= 5.6 <class 'float'>\n",
      "\n",
      "\n",
      "ST= {1, 2, 3} <class 'set'>\n",
      "\n",
      "\n",
      "BON= True <class 'bool'>\n",
      "\n",
      "\n",
      "TE= (1, 2.0, 'apple', 3.0) <class 'tuple'>\n",
      "\n",
      "\n",
      "LT= ['mango', 'banana', 1, 2] <class 'list'>\n",
      "\n",
      "\n",
      "DT= {'go': 'corona'} <class 'dict'>\n",
      "\n",
      "\n",
      "COM= (2+3j) <class 'complex'>\n",
      "\n",
      "\n",
      "BY= 5 <class 'int'>\n",
      "\n",
      "\n",
      "HEXA= 10 <class 'int'>\n",
      "\n",
      "\n"
     ]
    }
   ],
   "source": [
    "INT=5\n",
    "print(\"INT=\",INT,type(INT))\n",
    "print(\"\\n\")\n",
    "FLT=5.6\n",
    "print(\"FLT=\",FLT,type(FLT))\n",
    "print(\"\\n\")\n",
    "ST={1,2,3}\n",
    "print(\"ST=\",ST,type(ST))\n",
    "print(\"\\n\")\n",
    "BON=True\n",
    "print(\"BON=\",BON,type(BON))\n",
    "print(\"\\n\")\n",
    "TE=(1,2.0,'apple',3.0)\n",
    "print(\"TE=\",TE, type(TE))\n",
    "print(\"\\n\")\n",
    "LT=['mango','banana',1,2]\n",
    "print(\"LT=\",LT,type(LT))\n",
    "print(\"\\n\")\n",
    "DT={'go':'corona','go':'corona'}\n",
    "print(\"DT=\",DT,type(DT))\n",
    "print(\"\\n\")\n",
    "COM=2+3j\n",
    "print(\"COM=\",COM,type(COM))\n",
    "print(\"\\n\")\n",
    "BY=0b101 \n",
    "print(\"BY=\",BY,type(BY))\n",
    "print(\"\\n\")\n",
    "HEXA=0X0A  #used hexadecimal\n",
    "print(\"HEXA=\",HEXA,type(HEXA))\n",
    "print(\"\\n\")"
   ]
  },
  {
   "cell_type": "code",
   "execution_count": null,
   "metadata": {},
   "outputs": [],
   "source": []
  }
 ],
 "metadata": {
  "kernelspec": {
   "display_name": "Python 3",
   "language": "python",
   "name": "python3"
  },
  "language_info": {
   "codemirror_mode": {
    "name": "ipython",
    "version": 3
   },
   "file_extension": ".py",
   "mimetype": "text/x-python",
   "name": "python",
   "nbconvert_exporter": "python",
   "pygments_lexer": "ipython3",
   "version": "3.7.6"
  }
 },
 "nbformat": 4,
 "nbformat_minor": 4
}
