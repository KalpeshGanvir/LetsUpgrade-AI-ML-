{
 "cells": [
  {
   "cell_type": "markdown",
   "metadata": {},
   "source": [
    "# Question 1 :\n",
    "__Write a Python program to find the first 20 non-even prime natural numbers.__"
   ]
  },
  {
   "cell_type": "code",
   "execution_count": 1,
   "metadata": {},
   "outputs": [
    {
     "name": "stdout",
     "output_type": "stream",
     "text": [
      "Starting range 0\n",
      "Ending range 21\n",
      "Prime Numbers =  [0, 1, 3, 5, 7, 11, 13, 17, 19]\n",
      "Non Prime Numbers =  [4, 6, 8, 9, 10, 12, 14, 15, 16, 18, 20]\n"
     ]
    }
   ],
   "source": [
    "start = int(input(\"Starting range \"))\n",
    "end = int(input(\"Ending range \"))\n",
    "prime_number_list = []\n",
    "non_prime_number_list = []\n",
    "for i in range(start,end): \n",
    "    if i != 2 :\n",
    "        for j in range(2,i): \n",
    "            if(i % j==0): \n",
    "                non_prime_number_list.append(i)\n",
    "                break\n",
    "        else:\n",
    "            prime_number_list.append(i)\n",
    "print(\"Odd Prime Numbers = \",prime_number_list) \n",
    "print(\"Non Prime Numbers = \",non_prime_number_list)"
   ]
  },
  {
   "cell_type": "markdown",
   "metadata": {},
   "source": [
    "# Question 2 :\n",
    "__Write a Python program to implement 15 functions of string.__"
   ]
  },
  {
   "cell_type": "code",
   "execution_count": 5,
   "metadata": {},
   "outputs": [
    {
     "name": "stdout",
     "output_type": "stream",
     "text": [
      "length = 13\n",
      "Lower case =  hello world \n",
      "Upper case =   HELLO WORLD \n",
      "Strip =  Hello World\n",
      "Replace =   Hello Xorld \n",
      "Split =  [' Hello', 'World ']\n",
      "In search =  False\n",
      "Not in search =  True\n",
      "current age : 18\n",
      "Age order = My age is 18 my mom's age is 50 and my dad's age is 60 \n",
      "Capitalize String :  Hello world\n",
      "                   Hello World                    \n",
      "######################################################### Hello,World #########################################################\n",
      "matched\n",
      "www.programiz.com/\n",
      "He'S An Engineer, Isn'T He?\n"
     ]
    }
   ],
   "source": [
    "Str = ' Hello World '\n",
    "STr = ' Hello,World '\n",
    "STR = ' ##HELLO WORLD '\n",
    "\n",
    "print('length =',len(Str)) #space,special chara everything will be considered and will be calculated\n",
    "\n",
    "print('Lower case =',Str.lower()) #This is lower function  which converts all the letter within the string in lower case.\n",
    "\n",
    "print('Upper case = ',Str.upper()) #This is upper function  which converts all the letter within the string in upper case/ Capital .\n",
    "\n",
    "print('Strip = ',Str.strip()) #This is Strip function  which removes space which is present before/after any string.\n",
    "\n",
    "print('Replace = ',Str.replace(\"W\",\"X\")) #This is replace function. This function is use to replace any character from the string by other character\n",
    "\n",
    "print('Split = ',STr.split(\",\")) #This is Split function  which splits the words of string.\n",
    "\n",
    "J1 = \"hello\" in Str  #This will check whether the word is in that string.\n",
    "K1 = \"world\" not in Str\n",
    "print(\"In search = \",J1)\n",
    "print(\"Not in search = \",K1)\n",
    "\n",
    "L1 = 18\n",
    "M1 = 50\n",
    "N1 = 60\n",
    "my_age = \"current age : {}\"\n",
    "print(my_age.format(L1)) #This is format function which is used to concatinate string with integer\n",
    "aboutages = \"Age order = My age is {} my mom's age is {} and my dad's age is {} \"\n",
    "print(aboutages.format(L1,M1,N1)) #This is format function which is used to concatinate string with integer\n",
    "\n",
    "print(\"Capitalize String : \", Str.strip().capitalize()) #This is capitalize function. This function is use to convert only first letter of string in caps\n",
    "\n",
    "print(Str.center(50))\n",
    "print(STr.center(127,'#')) # .center() : This is center function. which shifts the text/string to center.\n",
    "\n",
    "STR = 'ßHELLO WORLD'\n",
    "STR1 = 'sshello world'\n",
    "if STR.casefold() == STR1 : # .casefold() method is an aggressive lower() method which converts strings to case folded strings for caseless matching.\n",
    "   print('matched')\n",
    "else :\n",
    "    print('not matched')\n",
    "    \n",
    "website = 'https://www.programiz.com/'\n",
    "print(website.lstrip('htps:/.'))\n",
    "\n",
    "text = \"He's an engineer, isn't he?\"\n",
    "print(text.title())"
   ]
  },
  {
   "cell_type": "markdown",
   "metadata": {},
   "source": [
    "# Question 3:\n",
    "__Write a Python program to check if the given string is a Palindrome or Anagram or None of them. Display\n",
    "the message accordingly to the user__"
   ]
  },
  {
   "cell_type": "code",
   "execution_count": 8,
   "metadata": {},
   "outputs": [
    {
     "name": "stdout",
     "output_type": "stream",
     "text": [
      "Enter a string malayalam\n",
      "Its a valid palindrome word\n",
      "Its a invalid anagram\n"
     ]
    }
   ],
   "source": [
    "x = input(\"Enter a string \")\n",
    "y = \"Civic\"\n",
    "w = \"\"\n",
    "for i in x:\n",
    "    w = i + w\n",
    "\n",
    "if (x == w) or (sorted(x)==sorted(y)):\n",
    "    if (x==w) :\n",
    "        print(\"Its a valid palindrome word\")\n",
    "    else:\n",
    "        print(\"Its a invalid palindrome word\")\n",
    "    \n",
    "    if (sorted(x)==sorted(y)) :\n",
    "             print(\"Its a valid anagram\")\n",
    "    else :\n",
    "             print(\"Its a invalid anagram\")\n",
    "else:\n",
    "    print(\"Given string is neither a palindrome nor anagram \")"
   ]
  },
  {
   "cell_type": "markdown",
   "metadata": {},
   "source": [
    "# Question 4:\n",
    "__Write a Python's user-defined function that removes all the additional characters from the string and\n",
    "convert it finally to lower case using built-in lower(). eg: If the string is \"Dr. Darshan Ingle @AIML Trainer\",\n",
    "then the output be \"drdarshaningleaimltrainer\"__"
   ]
  },
  {
   "cell_type": "code",
   "execution_count": 10,
   "metadata": {},
   "outputs": [
    {
     "name": "stdout",
     "output_type": "stream",
     "text": [
      "Please enter string with any character : Dr. Darshan Ingle @AIML Trainer\n",
      "Required String :  drdarshaningleaimltrainer\n"
     ]
    }
   ],
   "source": [
    "def ConvertStr(user_string) :\n",
    "    Change_str =''.join(e for e in user_string if e.isalnum())\n",
    "    lowercase_string = Change_str.lower()\n",
    "    print(\"Required String : \",lowercase_string)\n",
    "    return\n",
    "k5 = input(\"Please enter string with any character : \")\n",
    "ConvertStr(k5)"
   ]
  },
  {
   "cell_type": "code",
   "execution_count": null,
   "metadata": {},
   "outputs": [],
   "source": []
  }
 ],
 "metadata": {
  "kernelspec": {
   "display_name": "Python 3",
   "language": "python",
   "name": "python3"
  },
  "language_info": {
   "codemirror_mode": {
    "name": "ipython",
    "version": 3
   },
   "file_extension": ".py",
   "mimetype": "text/x-python",
   "name": "python",
   "nbconvert_exporter": "python",
   "pygments_lexer": "ipython3",
   "version": "3.8.3"
  }
 },
 "nbformat": 4,
 "nbformat_minor": 4
}
