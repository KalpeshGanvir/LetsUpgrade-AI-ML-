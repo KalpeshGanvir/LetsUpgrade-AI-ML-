{
 "cells": [
  {
   "cell_type": "markdown",
   "metadata": {},
   "source": [
    "# Question 1:\n",
    "Write a program to copy the contents of one file to another using a for loop. (Don’t use built-in copy\n",
    "function)"
   ]
  },
  {
   "cell_type": "code",
   "execution_count": 28,
   "metadata": {},
   "outputs": [
    {
     "name": "stdout",
     "output_type": "stream",
     "text": [
      "Hello peeps\n",
      "Hows your weekend?\n",
      "Are you guys enjoying? \n",
      "True\n"
     ]
    }
   ],
   "source": [
    "create_file= open(\"myfirstfile.txt\", \"w\")\n",
    "create_file.write('''\\nHello peeps\n",
    "Hows your weekend?\n",
    "Are you guys enjoying? ''')\n",
    "create_file= open(\"myfirstfile.txt\", \"r\")\n",
    "#Read = create_file.read()\n",
    "print(Read)\n",
    "another_file = open(\"mysecondfile.txt\",\"a\")\n",
    "for x in create_file.readlines() :\n",
    "    another_file.write(x)\n",
    "    \n",
    "create_file.close()\n",
    "print(create_file.closed)"
   ]
  },
  {
   "cell_type": "markdown",
   "metadata": {},
   "source": [
    "# Question 2:\n",
    "Write a Python program to find maximum and minimum values in the dictionary. Do not use built-in min\n",
    "and max functions."
   ]
  },
  {
   "cell_type": "code",
   "execution_count": 17,
   "metadata": {},
   "outputs": [
    {
     "name": "stdout",
     "output_type": "stream",
     "text": [
      "<class 'dict'>\n",
      "The original dictionary is : {'apple': 100, 'banana': 120, 'strawberry': 350, 'Kiwi': 75}\n",
      "Keys with minimum values are : ['Kiwi']\n",
      "Keys with minimum values are : ['strawberry']\n"
     ]
    }
   ],
   "source": [
    "Items = {'apple' : 100, 'banana' : 120, 'strawberry' : 350, 'Kiwi' : 75}  \n",
    "print(type(Items))\n",
    "print(\"The original dictionary is : \" + str(Items)) \n",
    "Min_temp=(lambda k: Items[k])  \n",
    "Max_temp=(lambda k: Items[k])\n",
    "MINI =  [key for key in Items if \n",
    "        all(Items[Min_temp] >= Items[key] \n",
    "        for Min_temp in Items)] \n",
    "MAX = [key for key in Items if \n",
    "        all(Items[Max_temp] <= Items[key] \n",
    "        for Max_temp in Items)]\n",
    "  \n",
    "# printing result  \n",
    "print(\"Keys with minimum values are : \" + str(MINI)) \n",
    "print(\"Keys with minimum values are : \" + str(MAX)) "
   ]
  },
  {
   "cell_type": "code",
   "execution_count": null,
   "metadata": {},
   "outputs": [],
   "source": [
    "\n"
   ]
  },
  {
   "cell_type": "code",
   "execution_count": null,
   "metadata": {},
   "outputs": [],
   "source": []
  },
  {
   "cell_type": "code",
   "execution_count": null,
   "metadata": {},
   "outputs": [],
   "source": []
  },
  {
   "cell_type": "code",
   "execution_count": null,
   "metadata": {},
   "outputs": [],
   "source": []
  },
  {
   "cell_type": "code",
   "execution_count": null,
   "metadata": {},
   "outputs": [],
   "source": []
  },
  {
   "cell_type": "code",
   "execution_count": null,
   "metadata": {},
   "outputs": [],
   "source": []
  },
  {
   "cell_type": "code",
   "execution_count": null,
   "metadata": {},
   "outputs": [],
   "source": []
  },
  {
   "cell_type": "code",
   "execution_count": null,
   "metadata": {},
   "outputs": [],
   "source": []
  }
 ],
 "metadata": {
  "kernelspec": {
   "display_name": "Python 3",
   "language": "python",
   "name": "python3"
  },
  "language_info": {
   "codemirror_mode": {
    "name": "ipython",
    "version": 3
   },
   "file_extension": ".py",
   "mimetype": "text/x-python",
   "name": "python",
   "nbconvert_exporter": "python",
   "pygments_lexer": "ipython3",
   "version": "3.8.3"
  }
 },
 "nbformat": 4,
 "nbformat_minor": 4
}
